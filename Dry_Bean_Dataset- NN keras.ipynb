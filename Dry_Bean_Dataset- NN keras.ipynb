{
 "cells": [
  {
   "cell_type": "code",
   "execution_count": 1,
   "id": "f86ab1a2",
   "metadata": {},
   "outputs": [],
   "source": [
    "import pandas as pd\n",
    "import numpy as np\n",
    "import seaborn as sns\n",
    "import matplotlib.pyplot as plt\n"
   ]
  },
  {
   "cell_type": "code",
   "execution_count": 20,
   "id": "c13a00a4",
   "metadata": {},
   "outputs": [
    {
     "name": "stdout",
     "output_type": "stream",
     "text": [
      "(13611, 17)\n",
      "                          0           1           2           3           4\n",
      "Area                  28395       28734       29380       30008       30140\n",
      "Perimeter           610.291     638.018      624.11     645.884     620.134\n",
      "MajorAxisLength  208.178117  200.524796   212.82613  210.557999  201.847882\n",
      "MinorAxisLength  173.888747  182.734419  175.931143  182.516516  190.279279\n",
      "AspectRation       1.197191    1.097356    1.209713    1.153638    1.060798\n",
      "Eccentricity       0.549812    0.411785    0.562727    0.498616     0.33368\n",
      "ConvexArea            28715       29172       29690       30724       30417\n",
      "EquivDiameter    190.141097   191.27275  193.410904  195.467062  195.896503\n",
      "Extent             0.763923    0.783968    0.778113    0.782681    0.773098\n",
      "Solidity           0.988856    0.984986    0.989559    0.976696    0.990893\n",
      "roundness          0.958027    0.887034    0.947849    0.903936    0.984877\n",
      "Compactness        0.913358    0.953861    0.908774    0.928329    0.970516\n",
      "ShapeFactor1       0.007332    0.006979    0.007244    0.007017    0.006697\n",
      "ShapeFactor2       0.003147    0.003564    0.003048    0.003215    0.003665\n",
      "ShapeFactor3       0.834222    0.909851    0.825871    0.861794      0.9419\n",
      "ShapeFactor4       0.998724     0.99843    0.999066    0.994199    0.999166\n",
      "Class                 SEKER       SEKER       SEKER       SEKER       SEKER\n"
     ]
    }
   ],
   "source": [
    "#import Data\n",
    "xl = pd.ExcelFile('Dry_Bean_Dataset.xlsx')\n",
    "df = xl.parse(xl.sheet_names[0])\n",
    "print(df.shape)\n",
    "print(df.head(5).T)"
   ]
  },
  {
   "cell_type": "code",
   "execution_count": 21,
   "id": "ea228699",
   "metadata": {},
   "outputs": [
    {
     "name": "stdout",
     "output_type": "stream",
     "text": [
      "(13611, 16)\n",
      "(13611,)\n"
     ]
    }
   ],
   "source": [
    "X=df.drop('Class',axis =1).values\n",
    "y = df['Class'].values\n",
    "print(X.shape)\n",
    "print(y.shape)"
   ]
  },
  {
   "cell_type": "code",
   "execution_count": 45,
   "id": "97d3d341",
   "metadata": {},
   "outputs": [
    {
     "name": "stdout",
     "output_type": "stream",
     "text": [
      "['SEKER' 'BARBUNYA' 'BOMBAY' 'CALI' 'HOROZ' 'SIRA' 'DERMASON']\n",
      "DERMASON    3546\n",
      "SIRA        2636\n",
      "SEKER       2027\n",
      "HOROZ       1928\n",
      "CALI        1630\n",
      "BARBUNYA    1322\n",
      "BOMBAY       522\n",
      "Name: Class, dtype: int64\n"
     ]
    },
    {
     "data": {
      "text/plain": [
       "<AxesSubplot:>"
      ]
     },
     "execution_count": 45,
     "metadata": {},
     "output_type": "execute_result"
    },
    {
     "data": {
      "image/png": "[encoded data removed]",
      "text/plain": [
       "<Figure size 640x480 with 1 Axes>"
      ]
     },
     "metadata": {},
     "output_type": "display_data"
    }
   ],
   "source": [
    "print(df['Class'].unique())\n",
    "print(df['Class'].value_counts())\n",
    "df['Class'].value_counts().plot.bar()"
   ]
  },
  {
   "cell_type": "code",
   "execution_count": 46,
   "id": "b9bf257f",
   "metadata": {},
   "outputs": [
    {
     "name": "stdout",
     "output_type": "stream",
     "text": [
      "7\n"
     ]
    }
   ],
   "source": [
    "from sklearn.preprocessing import LabelEncoder\n",
    "encoder = LabelEncoder()\n",
    "y = encoder.fit_transform(y)\n",
    "print(len(df['Class'].value_counts()))"
   ]
  },
  {
   "cell_type": "code",
   "execution_count": 76,
   "id": "212cd1fa",
   "metadata": {},
   "outputs": [
    {
     "name": "stdout",
     "output_type": "stream",
     "text": [
      "(9119, 16)\n",
      "(9119,)\n",
      "(4492, 16)\n",
      "(4492,)\n"
     ]
    }
   ],
   "source": [
    "#splitting Train and Test \n",
    "from sklearn.model_selection import train_test_split\n",
    "X_train, X_test, y_train, y_test = train_test_split(X, y, test_size=0.33, random_state=101)\n",
    "\n",
    "print(X_train.shape)\n",
    "print(y_train.shape)\n",
    "print(X_test.shape)\n",
    "print(y_test.shape)"
   ]
  },
  {
   "cell_type": "code",
   "execution_count": 77,
   "id": "7d86102b",
   "metadata": {},
   "outputs": [
    {
     "name": "stderr",
     "output_type": "stream",
     "text": [
      "/var/folders/jw/0j27hm_n76b6bxglkkkpgq300000gp/T/ipykernel_19653/2310471181.py:3: DeprecationWarning: `np.float` is a deprecated alias for the builtin `float`. To silence this warning, use `float` by itself. Doing this will not modify any behavior and is safe. If you specifically wanted the numpy scalar type, use `np.float64` here.\n",
      "Deprecated in NumPy 1.20; for more details and guidance: https://numpy.org/devdocs/release/1.20.0-notes.html#deprecations\n",
      "  X_train = s_scaler.fit_transform(X_train.astype(np.float))\n",
      "/var/folders/jw/0j27hm_n76b6bxglkkkpgq300000gp/T/ipykernel_19653/2310471181.py:4: DeprecationWarning: `np.float` is a deprecated alias for the builtin `float`. To silence this warning, use `float` by itself. Doing this will not modify any behavior and is safe. If you specifically wanted the numpy scalar type, use `np.float64` here.\n",
      "Deprecated in NumPy 1.20; for more details and guidance: https://numpy.org/devdocs/release/1.20.0-notes.html#deprecations\n",
      "  X_test = s_scaler.transform(X_test.astype(np.float))\n"
     ]
    }
   ],
   "source": [
    "from sklearn.preprocessing import StandardScaler\n",
    "s_scaler = StandardScaler()\n",
    "X_train = s_scaler.fit_transform(X_train.astype(np.float))\n",
    "X_test = s_scaler.transform(X_test.astype(np.float))"
   ]
  },
  {
   "cell_type": "code",
   "execution_count": 78,
   "id": "c2d72032",
   "metadata": {},
   "outputs": [
    {
     "name": "stdout",
     "output_type": "stream",
     "text": [
      "[[0. 0. 0. 1. 0. 0. 0.]\n",
      " [0. 0. 0. 0. 0. 0. 1.]]\n"
     ]
    }
   ],
   "source": [
    "from tensorflow.keras.utils import to_categorical\n",
    "y_train = to_categorical(y_train)\n",
    "print(y_train[:2])"
   ]
  },
  {
   "cell_type": "code",
   "execution_count": 79,
   "id": "24cb563f",
   "metadata": {},
   "outputs": [],
   "source": [
    "# Creating a Neural Network Model\n",
    "import tensorflow as tf\n",
    "from tensorflow.keras.models import Sequential\n",
    "from tensorflow.keras.layers import Dense, Activation\n",
    "from tensorflow.keras.optimizers import Adam"
   ]
  },
  {
   "cell_type": "code",
   "execution_count": 80,
   "id": "aed0f6de",
   "metadata": {},
   "outputs": [],
   "source": [
    "model = Sequential()\n",
    "model.add(Dense(32, activation='relu'))\n",
    "model.add(Dense(32, activation='relu'))\n",
    "model.add(Dense(32, activation='relu'))\n",
    "model.add(Dense(16, activation='relu'))\n",
    "model.add(Dense(7,activation='softmax'))\n",
    "model.compile(loss='categorical_crossentropy', optimizer='adam', \n",
    "              metrics=['accuracy'])"
   ]
  },
  {
   "cell_type": "code",
   "execution_count": 81,
   "id": "7cc497b5",
   "metadata": {},
   "outputs": [
    {
     "name": "stdout",
     "output_type": "stream",
     "text": [
      "Epoch 1/100\n",
      "57/57 [==============================] - 1s 4ms/step - loss: 1.5459 - accuracy: 0.3593 - val_loss: 1.1416 - val_accuracy: 0.4709\n",
      "Epoch 2/100\n",
      "57/57 [==============================] - 0s 2ms/step - loss: 0.8646 - accuracy: 0.6520 - val_loss: 0.6449 - val_accuracy: 0.7681\n",
      "Epoch 3/100\n",
      "57/57 [==============================] - 0s 2ms/step - loss: 0.4653 - accuracy: 0.8555 - val_loss: 0.3145 - val_accuracy: 0.9046\n",
      "Epoch 4/100\n",
      "57/57 [==============================] - 0s 2ms/step - loss: 0.2777 - accuracy: 0.9084 - val_loss: 0.2616 - val_accuracy: 0.9090\n",
      "Epoch 5/100\n",
      "57/57 [==============================] - 0s 2ms/step - loss: 0.2410 - accuracy: 0.9162 - val_loss: 0.2400 - val_accuracy: 0.9150\n",
      "Epoch 6/100\n",
      "57/57 [==============================] - 0s 2ms/step - loss: 0.2278 - accuracy: 0.9209 - val_loss: 0.2392 - val_accuracy: 0.9172\n",
      "Epoch 7/100\n",
      "57/57 [==============================] - 0s 2ms/step - loss: 0.2164 - accuracy: 0.9216 - val_loss: 0.2144 - val_accuracy: 0.9211\n",
      "Epoch 8/100\n",
      "57/57 [==============================] - 0s 2ms/step - loss: 0.2088 - accuracy: 0.9265 - val_loss: 0.2128 - val_accuracy: 0.9265\n",
      "Epoch 9/100\n",
      "57/57 [==============================] - 0s 2ms/step - loss: 0.2056 - accuracy: 0.9278 - val_loss: 0.2104 - val_accuracy: 0.9249\n",
      "Epoch 10/100\n",
      "57/57 [==============================] - 0s 2ms/step - loss: 0.2005 - accuracy: 0.9280 - val_loss: 0.2061 - val_accuracy: 0.9243\n",
      "Epoch 11/100\n",
      "57/57 [==============================] - 0s 2ms/step - loss: 0.1992 - accuracy: 0.9284 - val_loss: 0.2146 - val_accuracy: 0.9211\n",
      "Epoch 12/100\n",
      "57/57 [==============================] - 0s 2ms/step - loss: 0.1974 - accuracy: 0.9290 - val_loss: 0.2158 - val_accuracy: 0.9178\n",
      "Epoch 13/100\n",
      "57/57 [==============================] - 0s 2ms/step - loss: 0.1930 - accuracy: 0.9306 - val_loss: 0.2042 - val_accuracy: 0.9238\n",
      "Epoch 14/100\n",
      "57/57 [==============================] - 0s 2ms/step - loss: 0.1925 - accuracy: 0.9305 - val_loss: 0.2072 - val_accuracy: 0.9243\n",
      "Epoch 15/100\n",
      "57/57 [==============================] - 0s 2ms/step - loss: 0.1894 - accuracy: 0.9306 - val_loss: 0.2092 - val_accuracy: 0.9221\n",
      "Epoch 16/100\n",
      "57/57 [==============================] - 0s 2ms/step - loss: 0.1895 - accuracy: 0.9312 - val_loss: 0.2059 - val_accuracy: 0.9216\n",
      "Epoch 17/100\n",
      "57/57 [==============================] - 0s 2ms/step - loss: 0.1883 - accuracy: 0.9301 - val_loss: 0.2072 - val_accuracy: 0.9232\n",
      "Epoch 18/100\n",
      "57/57 [==============================] - 0s 2ms/step - loss: 0.1856 - accuracy: 0.9310 - val_loss: 0.2035 - val_accuracy: 0.9238\n",
      "Epoch 19/100\n",
      "57/57 [==============================] - 0s 2ms/step - loss: 0.1873 - accuracy: 0.9315 - val_loss: 0.2036 - val_accuracy: 0.9265\n",
      "Epoch 20/100\n",
      "57/57 [==============================] - 0s 2ms/step - loss: 0.1839 - accuracy: 0.9335 - val_loss: 0.2069 - val_accuracy: 0.9221\n",
      "Epoch 21/100\n",
      "57/57 [==============================] - 0s 2ms/step - loss: 0.1838 - accuracy: 0.9346 - val_loss: 0.2058 - val_accuracy: 0.9205\n",
      "Epoch 22/100\n",
      "57/57 [==============================] - 0s 2ms/step - loss: 0.1848 - accuracy: 0.9313 - val_loss: 0.2040 - val_accuracy: 0.9254\n",
      "Epoch 23/100\n",
      "57/57 [==============================] - 0s 2ms/step - loss: 0.1834 - accuracy: 0.9341 - val_loss: 0.2105 - val_accuracy: 0.9221\n",
      "Epoch 24/100\n",
      "57/57 [==============================] - 0s 2ms/step - loss: 0.1837 - accuracy: 0.9327 - val_loss: 0.2042 - val_accuracy: 0.9243\n",
      "Epoch 25/100\n",
      "57/57 [==============================] - 0s 2ms/step - loss: 0.1810 - accuracy: 0.9319 - val_loss: 0.2067 - val_accuracy: 0.9254\n",
      "Epoch 26/100\n",
      "57/57 [==============================] - 0s 2ms/step - loss: 0.1801 - accuracy: 0.9334 - val_loss: 0.2109 - val_accuracy: 0.9189\n",
      "Epoch 27/100\n",
      "57/57 [==============================] - 0s 2ms/step - loss: 0.1788 - accuracy: 0.9347 - val_loss: 0.2055 - val_accuracy: 0.9221\n",
      "Epoch 28/100\n",
      "57/57 [==============================] - 0s 2ms/step - loss: 0.1774 - accuracy: 0.9357 - val_loss: 0.2000 - val_accuracy: 0.9232\n",
      "Epoch 29/100\n",
      "57/57 [==============================] - 0s 2ms/step - loss: 0.1775 - accuracy: 0.9331 - val_loss: 0.2041 - val_accuracy: 0.9238\n",
      "Epoch 30/100\n",
      "57/57 [==============================] - 0s 2ms/step - loss: 0.1774 - accuracy: 0.9354 - val_loss: 0.2021 - val_accuracy: 0.9265\n",
      "Epoch 31/100\n",
      "57/57 [==============================] - 0s 2ms/step - loss: 0.1792 - accuracy: 0.9330 - val_loss: 0.2141 - val_accuracy: 0.9221\n",
      "Epoch 32/100\n",
      "57/57 [==============================] - 0s 2ms/step - loss: 0.1777 - accuracy: 0.9332 - val_loss: 0.2019 - val_accuracy: 0.9254\n",
      "Epoch 33/100\n",
      "57/57 [==============================] - 0s 2ms/step - loss: 0.1752 - accuracy: 0.9356 - val_loss: 0.2055 - val_accuracy: 0.9227\n",
      "Epoch 34/100\n",
      "57/57 [==============================] - 0s 2ms/step - loss: 0.1766 - accuracy: 0.9342 - val_loss: 0.1995 - val_accuracy: 0.9260\n",
      "Epoch 35/100\n",
      "57/57 [==============================] - 0s 2ms/step - loss: 0.1750 - accuracy: 0.9363 - val_loss: 0.2114 - val_accuracy: 0.9232\n",
      "Epoch 36/100\n",
      "57/57 [==============================] - 0s 2ms/step - loss: 0.1771 - accuracy: 0.9361 - val_loss: 0.2026 - val_accuracy: 0.9282\n",
      "Epoch 37/100\n",
      "57/57 [==============================] - 0s 2ms/step - loss: 0.1738 - accuracy: 0.9361 - val_loss: 0.2015 - val_accuracy: 0.9265\n",
      "Epoch 38/100\n",
      "57/57 [==============================] - 0s 2ms/step - loss: 0.1733 - accuracy: 0.9350 - val_loss: 0.2021 - val_accuracy: 0.9265\n",
      "Epoch 39/100\n",
      "57/57 [==============================] - 0s 2ms/step - loss: 0.1735 - accuracy: 0.9371 - val_loss: 0.2127 - val_accuracy: 0.9200\n",
      "Epoch 40/100\n",
      "57/57 [==============================] - 0s 2ms/step - loss: 0.1763 - accuracy: 0.9319 - val_loss: 0.1989 - val_accuracy: 0.9276\n",
      "Epoch 41/100\n",
      "57/57 [==============================] - 0s 2ms/step - loss: 0.1715 - accuracy: 0.9360 - val_loss: 0.2026 - val_accuracy: 0.9232\n",
      "Epoch 42/100\n",
      "57/57 [==============================] - 0s 2ms/step - loss: 0.1719 - accuracy: 0.9379 - val_loss: 0.2032 - val_accuracy: 0.9238\n",
      "Epoch 43/100\n",
      "57/57 [==============================] - 0s 2ms/step - loss: 0.1718 - accuracy: 0.9350 - val_loss: 0.2023 - val_accuracy: 0.9238\n",
      "Epoch 44/100\n",
      "57/57 [==============================] - 0s 2ms/step - loss: 0.1713 - accuracy: 0.9363 - val_loss: 0.2005 - val_accuracy: 0.9287\n",
      "Epoch 45/100\n",
      "57/57 [==============================] - 0s 2ms/step - loss: 0.1704 - accuracy: 0.9378 - val_loss: 0.2033 - val_accuracy: 0.9216\n",
      "Epoch 46/100\n",
      "57/57 [==============================] - 0s 2ms/step - loss: 0.1706 - accuracy: 0.9382 - val_loss: 0.2038 - val_accuracy: 0.9232\n",
      "Epoch 47/100\n",
      "57/57 [==============================] - 0s 2ms/step - loss: 0.1679 - accuracy: 0.9380 - val_loss: 0.2056 - val_accuracy: 0.9276\n",
      "Epoch 48/100\n",
      "57/57 [==============================] - 0s 2ms/step - loss: 0.1705 - accuracy: 0.9375 - val_loss: 0.1975 - val_accuracy: 0.9282\n",
      "Epoch 49/100\n",
      "57/57 [==============================] - 0s 2ms/step - loss: 0.1695 - accuracy: 0.9378 - val_loss: 0.1961 - val_accuracy: 0.9293\n",
      "Epoch 50/100\n",
      "57/57 [==============================] - 0s 2ms/step - loss: 0.1681 - accuracy: 0.9364 - val_loss: 0.1974 - val_accuracy: 0.9276\n",
      "Epoch 51/100\n",
      "57/57 [==============================] - 0s 2ms/step - loss: 0.1658 - accuracy: 0.9400 - val_loss: 0.2041 - val_accuracy: 0.9232\n",
      "Epoch 52/100\n",
      "57/57 [==============================] - 0s 2ms/step - loss: 0.1683 - accuracy: 0.9400 - val_loss: 0.1966 - val_accuracy: 0.9276\n",
      "Epoch 53/100\n",
      "57/57 [==============================] - 0s 2ms/step - loss: 0.1674 - accuracy: 0.9386 - val_loss: 0.1967 - val_accuracy: 0.9276\n",
      "Epoch 54/100\n",
      "57/57 [==============================] - 0s 2ms/step - loss: 0.1678 - accuracy: 0.9369 - val_loss: 0.1965 - val_accuracy: 0.9282\n",
      "Epoch 55/100\n",
      "57/57 [==============================] - 0s 2ms/step - loss: 0.1666 - accuracy: 0.9379 - val_loss: 0.2016 - val_accuracy: 0.9249\n",
      "Epoch 56/100\n",
      "57/57 [==============================] - 0s 2ms/step - loss: 0.1655 - accuracy: 0.9394 - val_loss: 0.1986 - val_accuracy: 0.9276\n",
      "Epoch 57/100\n",
      "57/57 [==============================] - 0s 2ms/step - loss: 0.1647 - accuracy: 0.9393 - val_loss: 0.1957 - val_accuracy: 0.9265\n",
      "Epoch 58/100\n",
      "57/57 [==============================] - 0s 2ms/step - loss: 0.1667 - accuracy: 0.9374 - val_loss: 0.1950 - val_accuracy: 0.9254\n"
     ]
    },
    {
     "name": "stdout",
     "output_type": "stream",
     "text": [
      "Epoch 59/100\n",
      "57/57 [==============================] - 0s 2ms/step - loss: 0.1644 - accuracy: 0.9397 - val_loss: 0.1941 - val_accuracy: 0.9287\n",
      "Epoch 60/100\n",
      "57/57 [==============================] - 0s 2ms/step - loss: 0.1652 - accuracy: 0.9375 - val_loss: 0.1971 - val_accuracy: 0.9271\n",
      "Epoch 61/100\n",
      "57/57 [==============================] - 0s 2ms/step - loss: 0.1636 - accuracy: 0.9405 - val_loss: 0.1960 - val_accuracy: 0.9265\n",
      "Epoch 62/100\n",
      "57/57 [==============================] - 0s 2ms/step - loss: 0.1665 - accuracy: 0.9389 - val_loss: 0.2072 - val_accuracy: 0.9276\n",
      "Epoch 63/100\n",
      "57/57 [==============================] - 0s 2ms/step - loss: 0.1646 - accuracy: 0.9380 - val_loss: 0.1969 - val_accuracy: 0.9271\n",
      "Epoch 64/100\n",
      "57/57 [==============================] - 0s 2ms/step - loss: 0.1633 - accuracy: 0.9389 - val_loss: 0.1966 - val_accuracy: 0.9276\n",
      "Epoch 65/100\n",
      "57/57 [==============================] - 0s 2ms/step - loss: 0.1674 - accuracy: 0.9364 - val_loss: 0.2023 - val_accuracy: 0.9254\n",
      "Epoch 66/100\n",
      "57/57 [==============================] - 0s 2ms/step - loss: 0.1619 - accuracy: 0.9413 - val_loss: 0.1959 - val_accuracy: 0.9293\n",
      "Epoch 67/100\n",
      "57/57 [==============================] - 0s 2ms/step - loss: 0.1640 - accuracy: 0.9383 - val_loss: 0.1986 - val_accuracy: 0.9254\n",
      "Epoch 68/100\n",
      "57/57 [==============================] - 0s 2ms/step - loss: 0.1614 - accuracy: 0.9379 - val_loss: 0.1953 - val_accuracy: 0.9260\n",
      "Epoch 69/100\n",
      "57/57 [==============================] - 0s 2ms/step - loss: 0.1637 - accuracy: 0.9398 - val_loss: 0.1952 - val_accuracy: 0.9271\n",
      "Epoch 70/100\n",
      "57/57 [==============================] - 0s 2ms/step - loss: 0.1606 - accuracy: 0.9398 - val_loss: 0.1955 - val_accuracy: 0.9282\n",
      "Epoch 71/100\n",
      "57/57 [==============================] - 0s 2ms/step - loss: 0.1597 - accuracy: 0.9402 - val_loss: 0.1966 - val_accuracy: 0.9276\n",
      "Epoch 72/100\n",
      "57/57 [==============================] - 0s 2ms/step - loss: 0.1605 - accuracy: 0.9389 - val_loss: 0.1961 - val_accuracy: 0.9276\n",
      "Epoch 73/100\n",
      "57/57 [==============================] - 0s 2ms/step - loss: 0.1618 - accuracy: 0.9395 - val_loss: 0.2036 - val_accuracy: 0.9265\n",
      "Epoch 74/100\n",
      "57/57 [==============================] - 0s 2ms/step - loss: 0.1635 - accuracy: 0.9371 - val_loss: 0.1979 - val_accuracy: 0.9271\n",
      "Epoch 75/100\n",
      "57/57 [==============================] - 0s 2ms/step - loss: 0.1605 - accuracy: 0.9395 - val_loss: 0.1955 - val_accuracy: 0.9293\n",
      "Epoch 76/100\n",
      "57/57 [==============================] - 0s 2ms/step - loss: 0.1575 - accuracy: 0.9437 - val_loss: 0.1975 - val_accuracy: 0.9287\n",
      "Epoch 77/100\n",
      "57/57 [==============================] - 0s 2ms/step - loss: 0.1605 - accuracy: 0.9391 - val_loss: 0.2061 - val_accuracy: 0.9265\n",
      "Epoch 78/100\n",
      "57/57 [==============================] - 0s 2ms/step - loss: 0.1610 - accuracy: 0.9397 - val_loss: 0.1983 - val_accuracy: 0.9304\n",
      "Epoch 79/100\n",
      "57/57 [==============================] - 0s 2ms/step - loss: 0.1606 - accuracy: 0.9387 - val_loss: 0.1935 - val_accuracy: 0.9282\n",
      "Epoch 80/100\n",
      "57/57 [==============================] - 0s 2ms/step - loss: 0.1571 - accuracy: 0.9395 - val_loss: 0.1964 - val_accuracy: 0.9282\n",
      "Epoch 81/100\n",
      "57/57 [==============================] - 0s 2ms/step - loss: 0.1591 - accuracy: 0.9394 - val_loss: 0.1988 - val_accuracy: 0.9265\n",
      "Epoch 82/100\n",
      "57/57 [==============================] - 0s 2ms/step - loss: 0.1578 - accuracy: 0.9402 - val_loss: 0.1977 - val_accuracy: 0.9282\n",
      "Epoch 83/100\n",
      "57/57 [==============================] - 0s 2ms/step - loss: 0.1560 - accuracy: 0.9420 - val_loss: 0.1951 - val_accuracy: 0.9298\n",
      "Epoch 84/100\n",
      "57/57 [==============================] - 0s 2ms/step - loss: 0.1564 - accuracy: 0.9406 - val_loss: 0.1960 - val_accuracy: 0.9271\n",
      "Epoch 85/100\n",
      "57/57 [==============================] - 0s 2ms/step - loss: 0.1566 - accuracy: 0.9409 - val_loss: 0.1953 - val_accuracy: 0.9293\n",
      "Epoch 86/100\n",
      "57/57 [==============================] - 0s 2ms/step - loss: 0.1551 - accuracy: 0.9398 - val_loss: 0.1977 - val_accuracy: 0.9276\n",
      "Epoch 87/100\n",
      "57/57 [==============================] - 0s 2ms/step - loss: 0.1548 - accuracy: 0.9427 - val_loss: 0.2056 - val_accuracy: 0.9271\n",
      "Epoch 88/100\n",
      "57/57 [==============================] - 0s 3ms/step - loss: 0.1567 - accuracy: 0.9409 - val_loss: 0.1947 - val_accuracy: 0.9287\n",
      "Epoch 89/100\n",
      "57/57 [==============================] - 0s 2ms/step - loss: 0.1579 - accuracy: 0.9374 - val_loss: 0.1978 - val_accuracy: 0.9265\n",
      "Epoch 90/100\n",
      "57/57 [==============================] - 0s 2ms/step - loss: 0.1555 - accuracy: 0.9413 - val_loss: 0.1972 - val_accuracy: 0.9293\n",
      "Epoch 91/100\n",
      "57/57 [==============================] - 0s 2ms/step - loss: 0.1521 - accuracy: 0.9434 - val_loss: 0.1949 - val_accuracy: 0.9331\n",
      "Epoch 92/100\n",
      "57/57 [==============================] - 0s 2ms/step - loss: 0.1535 - accuracy: 0.9409 - val_loss: 0.2009 - val_accuracy: 0.9276\n",
      "Epoch 93/100\n",
      "57/57 [==============================] - 0s 2ms/step - loss: 0.1559 - accuracy: 0.9402 - val_loss: 0.1982 - val_accuracy: 0.9249\n",
      "Epoch 94/100\n",
      "57/57 [==============================] - 0s 2ms/step - loss: 0.1528 - accuracy: 0.9438 - val_loss: 0.1960 - val_accuracy: 0.9304\n",
      "Epoch 95/100\n",
      "57/57 [==============================] - 0s 2ms/step - loss: 0.1532 - accuracy: 0.9411 - val_loss: 0.2028 - val_accuracy: 0.9254\n",
      "Epoch 96/100\n",
      "57/57 [==============================] - 0s 2ms/step - loss: 0.1542 - accuracy: 0.9416 - val_loss: 0.1943 - val_accuracy: 0.9331\n",
      "Epoch 97/100\n",
      "57/57 [==============================] - 0s 2ms/step - loss: 0.1518 - accuracy: 0.9441 - val_loss: 0.1965 - val_accuracy: 0.9309\n",
      "Epoch 98/100\n",
      "57/57 [==============================] - 0s 2ms/step - loss: 0.1534 - accuracy: 0.9427 - val_loss: 0.2000 - val_accuracy: 0.9282\n",
      "Epoch 99/100\n",
      "57/57 [==============================] - 0s 2ms/step - loss: 0.1529 - accuracy: 0.9409 - val_loss: 0.1988 - val_accuracy: 0.9309\n",
      "Epoch 100/100\n",
      "57/57 [==============================] - 0s 2ms/step - loss: 0.1507 - accuracy: 0.9423 - val_loss: 0.1960 - val_accuracy: 0.9276\n"
     ]
    }
   ],
   "source": [
    "history = model.fit(x=X_train,y=y_train, validation_split=0.2,\n",
    "          batch_size=128,epochs=100)\n"
   ]
  },
  {
   "cell_type": "code",
   "execution_count": 82,
   "id": "2a110ca8",
   "metadata": {},
   "outputs": [
    {
     "name": "stdout",
     "output_type": "stream",
     "text": [
      "Model: \"sequential_8\"\n",
      "_________________________________________________________________\n",
      " Layer (type)                Output Shape              Param #   \n",
      "=================================================================\n",
      " dense_23 (Dense)            (None, 32)                544       \n",
      "                                                                 \n",
      " dense_24 (Dense)            (None, 32)                1056      \n",
      "                                                                 \n",
      " dense_25 (Dense)            (None, 32)                1056      \n",
      "                                                                 \n",
      " dense_26 (Dense)            (None, 16)                528       \n",
      "                                                                 \n",
      " dense_27 (Dense)            (None, 7)                 119       \n",
      "                                                                 \n",
      "=================================================================\n",
      "Total params: 3,303\n",
      "Trainable params: 3,303\n",
      "Non-trainable params: 0\n",
      "_________________________________________________________________\n"
     ]
    }
   ],
   "source": [
    "model.summary()"
   ]
  },
  {
   "cell_type": "code",
   "execution_count": 83,
   "id": "c8b5565c",
   "metadata": {},
   "outputs": [
    {
     "data": {
      "image/png": "[encoded data removed]",
      "text/plain": [
       "<Figure size 640x480 with 1 Axes>"
      ]
     },
     "metadata": {},
     "output_type": "display_data"
    }
   ],
   "source": [
    "plt.plot(history.history['loss'])\n",
    "plt.plot(history.history['val_loss'])\n",
    "plt.title('model loss')\n",
    "plt.ylabel('loss')\n",
    "plt.xlabel('epoch')\n",
    "#plt.legend(['train', 'val'], loc='upper left')\n",
    "plt.show()"
   ]
  },
  {
   "cell_type": "code",
   "execution_count": 84,
   "id": "728d6cab",
   "metadata": {},
   "outputs": [
    {
     "name": "stdout",
     "output_type": "stream",
     "text": [
      "141/141 [==============================] - 0s 784us/step\n"
     ]
    }
   ],
   "source": [
    "y_pred = model.predict(X_test)\n",
    "y_pred = y_pred.argmax(axis=1)"
   ]
  },
  {
   "cell_type": "code",
   "execution_count": 85,
   "id": "42f08c3a",
   "metadata": {},
   "outputs": [
    {
     "name": "stdout",
     "output_type": "stream",
     "text": [
      "              precision    recall  f1-score   support\n",
      "\n",
      "           0       0.91      0.94      0.93       400\n",
      "           1       0.99      1.00      1.00       185\n",
      "           2       0.95      0.93      0.94       531\n",
      "           3       0.92      0.93      0.92      1163\n",
      "           4       0.97      0.93      0.95       642\n",
      "           5       0.95      0.95      0.95       675\n",
      "           6       0.87      0.88      0.88       896\n",
      "\n",
      "    accuracy                           0.93      4492\n",
      "   macro avg       0.94      0.94      0.94      4492\n",
      "weighted avg       0.93      0.93      0.93      4492\n",
      "\n"
     ]
    }
   ],
   "source": [
    "from sklearn.metrics import classification_report\n",
    "print(classification_report(y_test,y_pred))"
   ]
  },
  {
   "cell_type": "code",
   "execution_count": null,
   "id": "1023fc11",
   "metadata": {},
   "outputs": [],
   "source": []
  }
 ],
 "metadata": {
  "kernelspec": {
   "display_name": "Python 3 (ipykernel)",
   "language": "python",
   "name": "python3"
  },
  "language_info": {
   "codemirror_mode": {
    "name": "ipython",
    "version": 3
   },
   "file_extension": ".py",
   "mimetype": "text/x-python",
   "name": "python",
   "nbconvert_exporter": "python",
   "pygments_lexer": "ipython3",
   "version": "3.9.13"
  }
 },
 "nbformat": 4,
 "nbformat_minor": 5
}
